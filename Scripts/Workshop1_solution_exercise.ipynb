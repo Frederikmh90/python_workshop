{
  "nbformat": 4,
  "nbformat_minor": 0,
  "metadata": {
    "colab": {
      "provenance": []
    },
    "kernelspec": {
      "name": "python3",
      "display_name": "Python 3"
    },
    "language_info": {
      "name": "python"
    }
  },
  "cells": [
    {
      "cell_type": "code",
      "execution_count": null,
      "metadata": {
        "colab": {
          "base_uri": "https://localhost:8080/"
        },
        "id": "7nZ0nSCF6K31",
        "outputId": "bbd9ad6e-582d-462c-819a-4c6a1335ae2f"
      },
      "outputs": [
        {
          "output_type": "stream",
          "name": "stdout",
          "text": [
            "Hello world! I am ready to take on my programming journey\n"
          ]
        }
      ],
      "source": [
        "# Step 1: Print the sentence\n",
        "text = \"Hello world! I am ready to take on my programming journey\"\n",
        "#print(\"Hello world! I am ready to take on my programming journey\")"
      ]
    },
    {
      "cell_type": "code",
      "source": [
        "# Step 2: Store a whole number\n",
        "integer_variable = 42"
      ],
      "metadata": {
        "id": "sbd1rG4N6Nvd"
      },
      "execution_count": null,
      "outputs": []
    },
    {
      "cell_type": "code",
      "source": [
        "# Step 3: Make a simple function with the stored number\n",
        "result = integer_variable + 10"
      ],
      "metadata": {
        "id": "WgN9E7Qh6OQ4"
      },
      "execution_count": null,
      "outputs": []
    },
    {
      "cell_type": "code",
      "source": [
        "# Call the function with a number\n",
        "print(\"The result of adding 10 to the stored number is:\", result)"
      ],
      "metadata": {
        "colab": {
          "base_uri": "https://localhost:8080/"
        },
        "id": "ePqV8Rvf6TaO",
        "outputId": "d70738bf-589d-4b52-94f4-6a5592dcda07"
      },
      "execution_count": null,
      "outputs": [
        {
          "output_type": "stream",
          "name": "stdout",
          "text": [
            "The result of adding 10 to the stored number is: 52\n"
          ]
        }
      ]
    },
    {
      "cell_type": "code",
      "source": [
        "# Step 4: Explain the code\n",
        "# Since I can't find a rubber duck on your phone, I'll explain the code here:\n",
        "# The print statement is used to display the specified message.\n",
        "# 'integer_variable' is a variable that stores the whole number 42.\n",
        "# 'add_to_stored_number' is a function that takes one parameter and returns the sum of the stored number and the parameter.\n",
        "# We then call this function with the number 10 and print the result.\n",
        "\n",
        "# Step 5: Done!\n",
        "\n",
        "# Q&A session can follow to address any questions about the exercise."
      ],
      "metadata": {
        "id": "tXmhdq_u6ULk"
      },
      "execution_count": null,
      "outputs": []
    },
    {
      "cell_type": "code",
      "source": [],
      "metadata": {
        "id": "YYzMGpoQAGyK"
      },
      "execution_count": null,
      "outputs": []
    }
  ]
}